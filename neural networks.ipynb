{
 "cells": [
  {
   "cell_type": "code",
   "execution_count": 38,
   "id": "b7483116",
   "metadata": {},
   "outputs": [],
   "source": [
    "#SIMPLE NEURAL NETWORKS"
   ]
  },
  {
   "cell_type": "code",
   "execution_count": 29,
   "id": "0639202d",
   "metadata": {},
   "outputs": [],
   "source": [
    "import numpy as np"
   ]
  },
  {
   "cell_type": "code",
   "execution_count": 30,
   "id": "066b8f21",
   "metadata": {},
   "outputs": [],
   "source": [
    "def sigmoid(x):\n",
    "    return 1/(1+np.exp(-x))"
   ]
  },
  {
   "cell_type": "code",
   "execution_count": 31,
   "id": "1dca66bd",
   "metadata": {},
   "outputs": [],
   "source": [
    "bias = [[2,4,6],[5,7,8],[3]]\n",
    "\n",
    "inp = [2,4,3]\n",
    "\n",
    "weight = [[1,0,0.2],[0,1,1],[0.5,0,1]]"
   ]
  },
  {
   "cell_type": "code",
   "execution_count": 32,
   "id": "756bc971",
   "metadata": {},
   "outputs": [
    {
     "data": {
      "text/plain": [
       "array([4.6, 6.6, 8.6])"
      ]
     },
     "execution_count": 32,
     "metadata": {},
     "output_type": "execute_result"
    }
   ],
   "source": [
    "level1 = np.dot(inp,weight[0]) + bias[0]\n",
    "level1"
   ]
  },
  {
   "cell_type": "code",
   "execution_count": 33,
   "id": "97d132f3",
   "metadata": {},
   "outputs": [
    {
     "name": "stdout",
     "output_type": "stream",
     "text": [
      "[0.9900481981330957, 0.9986414800495711, 0.9998159280950366]\n"
     ]
    }
   ],
   "source": [
    "L1 = list(map(sigmoid,level1))\n",
    "print(L1)"
   ]
  },
  {
   "cell_type": "code",
   "execution_count": 34,
   "id": "7ee245c5",
   "metadata": {},
   "outputs": [
    {
     "data": {
      "text/plain": [
       "array([6.99845741, 8.99845741, 9.99845741])"
      ]
     },
     "execution_count": 34,
     "metadata": {},
     "output_type": "execute_result"
    }
   ],
   "source": [
    "level2 = np.dot(L1,weight[1]) + bias[1]\n",
    "level2"
   ]
  },
  {
   "cell_type": "code",
   "execution_count": 35,
   "id": "4ee8559d",
   "metadata": {},
   "outputs": [
    {
     "name": "stdout",
     "output_type": "stream",
     "text": [
      "[0.9990875436242631, 0.9998764149531985, 0.9999545320500598]\n"
     ]
    }
   ],
   "source": [
    "L2 = list(map(sigmoid,level2))\n",
    "print(L2)"
   ]
  },
  {
   "cell_type": "code",
   "execution_count": 36,
   "id": "70b19b9a",
   "metadata": {},
   "outputs": [
    {
     "data": {
      "text/plain": [
       "array([4.4994983])"
      ]
     },
     "execution_count": 36,
     "metadata": {},
     "output_type": "execute_result"
    }
   ],
   "source": [
    "level3 = np.dot(L2,weight[2]) + bias[2]\n",
    "level3"
   ]
  },
  {
   "cell_type": "code",
   "execution_count": 37,
   "id": "ebf1e033",
   "metadata": {},
   "outputs": [
    {
     "name": "stdout",
     "output_type": "stream",
     "text": [
      "OUTPUT: [0.9890076]\n"
     ]
    }
   ],
   "source": [
    "L3 = sigmoid(level3)\n",
    "print(\"OUTPUT:\",L3)"
   ]
  },
  {
   "cell_type": "code",
   "execution_count": 42,
   "id": "be3691eb",
   "metadata": {},
   "outputs": [],
   "source": [
    "#BASIC KERAS MODEL\n",
    "from numpy import loadtxt\n",
    "from tensorflow.keras.models import Sequential\n",
    "from tensorflow.keras.layers import Dense\n",
    "import pandas as pd"
   ]
  },
  {
   "cell_type": "code",
   "execution_count": 45,
   "id": "451a2aa0",
   "metadata": {},
   "outputs": [
    {
     "data": {
      "text/html": [
       "<div>\n",
       "<style scoped>\n",
       "    .dataframe tbody tr th:only-of-type {\n",
       "        vertical-align: middle;\n",
       "    }\n",
       "\n",
       "    .dataframe tbody tr th {\n",
       "        vertical-align: top;\n",
       "    }\n",
       "\n",
       "    .dataframe thead th {\n",
       "        text-align: right;\n",
       "    }\n",
       "</style>\n",
       "<table border=\"1\" class=\"dataframe\">\n",
       "  <thead>\n",
       "    <tr style=\"text-align: right;\">\n",
       "      <th></th>\n",
       "      <th>6</th>\n",
       "      <th>148</th>\n",
       "      <th>72</th>\n",
       "      <th>35</th>\n",
       "      <th>0</th>\n",
       "      <th>33.6</th>\n",
       "      <th>0.627</th>\n",
       "      <th>50</th>\n",
       "      <th>1</th>\n",
       "    </tr>\n",
       "  </thead>\n",
       "  <tbody>\n",
       "    <tr>\n",
       "      <th>0</th>\n",
       "      <td>1</td>\n",
       "      <td>85</td>\n",
       "      <td>66</td>\n",
       "      <td>29</td>\n",
       "      <td>0</td>\n",
       "      <td>26.6</td>\n",
       "      <td>0.351</td>\n",
       "      <td>31</td>\n",
       "      <td>0</td>\n",
       "    </tr>\n",
       "    <tr>\n",
       "      <th>1</th>\n",
       "      <td>8</td>\n",
       "      <td>183</td>\n",
       "      <td>64</td>\n",
       "      <td>0</td>\n",
       "      <td>0</td>\n",
       "      <td>23.3</td>\n",
       "      <td>0.672</td>\n",
       "      <td>32</td>\n",
       "      <td>1</td>\n",
       "    </tr>\n",
       "    <tr>\n",
       "      <th>2</th>\n",
       "      <td>1</td>\n",
       "      <td>89</td>\n",
       "      <td>66</td>\n",
       "      <td>23</td>\n",
       "      <td>94</td>\n",
       "      <td>28.1</td>\n",
       "      <td>0.167</td>\n",
       "      <td>21</td>\n",
       "      <td>0</td>\n",
       "    </tr>\n",
       "    <tr>\n",
       "      <th>3</th>\n",
       "      <td>0</td>\n",
       "      <td>137</td>\n",
       "      <td>40</td>\n",
       "      <td>35</td>\n",
       "      <td>168</td>\n",
       "      <td>43.1</td>\n",
       "      <td>2.288</td>\n",
       "      <td>33</td>\n",
       "      <td>1</td>\n",
       "    </tr>\n",
       "    <tr>\n",
       "      <th>4</th>\n",
       "      <td>5</td>\n",
       "      <td>116</td>\n",
       "      <td>74</td>\n",
       "      <td>0</td>\n",
       "      <td>0</td>\n",
       "      <td>25.6</td>\n",
       "      <td>0.201</td>\n",
       "      <td>30</td>\n",
       "      <td>0</td>\n",
       "    </tr>\n",
       "    <tr>\n",
       "      <th>...</th>\n",
       "      <td>...</td>\n",
       "      <td>...</td>\n",
       "      <td>...</td>\n",
       "      <td>...</td>\n",
       "      <td>...</td>\n",
       "      <td>...</td>\n",
       "      <td>...</td>\n",
       "      <td>...</td>\n",
       "      <td>...</td>\n",
       "    </tr>\n",
       "    <tr>\n",
       "      <th>762</th>\n",
       "      <td>10</td>\n",
       "      <td>101</td>\n",
       "      <td>76</td>\n",
       "      <td>48</td>\n",
       "      <td>180</td>\n",
       "      <td>32.9</td>\n",
       "      <td>0.171</td>\n",
       "      <td>63</td>\n",
       "      <td>0</td>\n",
       "    </tr>\n",
       "    <tr>\n",
       "      <th>763</th>\n",
       "      <td>2</td>\n",
       "      <td>122</td>\n",
       "      <td>70</td>\n",
       "      <td>27</td>\n",
       "      <td>0</td>\n",
       "      <td>36.8</td>\n",
       "      <td>0.340</td>\n",
       "      <td>27</td>\n",
       "      <td>0</td>\n",
       "    </tr>\n",
       "    <tr>\n",
       "      <th>764</th>\n",
       "      <td>5</td>\n",
       "      <td>121</td>\n",
       "      <td>72</td>\n",
       "      <td>23</td>\n",
       "      <td>112</td>\n",
       "      <td>26.2</td>\n",
       "      <td>0.245</td>\n",
       "      <td>30</td>\n",
       "      <td>0</td>\n",
       "    </tr>\n",
       "    <tr>\n",
       "      <th>765</th>\n",
       "      <td>1</td>\n",
       "      <td>126</td>\n",
       "      <td>60</td>\n",
       "      <td>0</td>\n",
       "      <td>0</td>\n",
       "      <td>30.1</td>\n",
       "      <td>0.349</td>\n",
       "      <td>47</td>\n",
       "      <td>1</td>\n",
       "    </tr>\n",
       "    <tr>\n",
       "      <th>766</th>\n",
       "      <td>1</td>\n",
       "      <td>93</td>\n",
       "      <td>70</td>\n",
       "      <td>31</td>\n",
       "      <td>0</td>\n",
       "      <td>30.4</td>\n",
       "      <td>0.315</td>\n",
       "      <td>23</td>\n",
       "      <td>0</td>\n",
       "    </tr>\n",
       "  </tbody>\n",
       "</table>\n",
       "<p>767 rows × 9 columns</p>\n",
       "</div>"
      ],
      "text/plain": [
       "      6  148  72  35    0  33.6  0.627  50  1\n",
       "0     1   85  66  29    0  26.6  0.351  31  0\n",
       "1     8  183  64   0    0  23.3  0.672  32  1\n",
       "2     1   89  66  23   94  28.1  0.167  21  0\n",
       "3     0  137  40  35  168  43.1  2.288  33  1\n",
       "4     5  116  74   0    0  25.6  0.201  30  0\n",
       "..   ..  ...  ..  ..  ...   ...    ...  .. ..\n",
       "762  10  101  76  48  180  32.9  0.171  63  0\n",
       "763   2  122  70  27    0  36.8  0.340  27  0\n",
       "764   5  121  72  23  112  26.2  0.245  30  0\n",
       "765   1  126  60   0    0  30.1  0.349  47  1\n",
       "766   1   93  70  31    0  30.4  0.315  23  0\n",
       "\n",
       "[767 rows x 9 columns]"
      ]
     },
     "execution_count": 45,
     "metadata": {},
     "output_type": "execute_result"
    }
   ],
   "source": [
    "df = pd.read_csv('pima-indians-diabetes.data.csv')\n",
    "df"
   ]
  },
  {
   "cell_type": "code",
   "execution_count": 48,
   "id": "decc8647",
   "metadata": {},
   "outputs": [],
   "source": [
    "# load the dataset\n",
    "dataset = loadtxt('pima-indians-diabetes.data.csv', delimiter=',')\n",
    "# split into input (X) and output (y) variables\n",
    "X = dataset[:,0:8]\n",
    "y = dataset[:,8]\n"
   ]
  },
  {
   "cell_type": "code",
   "execution_count": 49,
   "id": "3d7eb6be",
   "metadata": {},
   "outputs": [
    {
     "name": "stdout",
     "output_type": "stream",
     "text": [
      "Metal device set to: Apple M1\n"
     ]
    },
    {
     "name": "stderr",
     "output_type": "stream",
     "text": [
      "2023-05-02 15:26:24.166622: I tensorflow/core/common_runtime/pluggable_device/pluggable_device_factory.cc:306] Could not identify NUMA node of platform GPU ID 0, defaulting to 0. Your kernel may not have been built with NUMA support.\n",
      "2023-05-02 15:26:24.167235: I tensorflow/core/common_runtime/pluggable_device/pluggable_device_factory.cc:272] Created TensorFlow device (/job:localhost/replica:0/task:0/device:GPU:0 with 0 MB memory) -> physical PluggableDevice (device: 0, name: METAL, pci bus id: <undefined>)\n"
     ]
    }
   ],
   "source": [
    "# define the keras model\n",
    "model = Sequential()\n",
    "model.add(Dense(12, input_shape=(8,), activation='relu'))\n",
    "model.add(Dense(8, activation='relu'))\n",
    "model.add(Dense(1, activation='sigmoid'))"
   ]
  },
  {
   "cell_type": "code",
   "execution_count": 50,
   "id": "4f25fc63",
   "metadata": {},
   "outputs": [],
   "source": [
    "# compile the keras model\n",
    "model.compile(loss='binary_crossentropy', optimizer='adam', metrics=['accuracy'])"
   ]
  },
  {
   "cell_type": "code",
   "execution_count": 51,
   "id": "8eeb739a",
   "metadata": {},
   "outputs": [
    {
     "name": "stdout",
     "output_type": "stream",
     "text": [
      "Epoch 1/150\n"
     ]
    },
    {
     "name": "stderr",
     "output_type": "stream",
     "text": [
      "2023-05-02 15:27:22.263513: W tensorflow/core/platform/profile_utils/cpu_utils.cc:128] Failed to get CPU frequency: 0 Hz\n",
      "2023-05-02 15:27:22.501517: I tensorflow/core/grappler/optimizers/custom_graph_optimizer_registry.cc:114] Plugin optimizer for device_type GPU is enabled.\n"
     ]
    },
    {
     "name": "stdout",
     "output_type": "stream",
     "text": [
      "77/77 [==============================] - 3s 10ms/step - loss: 7.2297 - accuracy: 0.6068\n",
      "Epoch 2/150\n",
      "77/77 [==============================] - 0s 6ms/step - loss: 1.5697 - accuracy: 0.5951\n",
      "Epoch 3/150\n",
      "77/77 [==============================] - 0s 6ms/step - loss: 0.9894 - accuracy: 0.6146\n",
      "Epoch 4/150\n",
      "77/77 [==============================] - 0s 6ms/step - loss: 0.8064 - accuracy: 0.6276\n",
      "Epoch 5/150\n",
      "77/77 [==============================] - 0s 6ms/step - loss: 0.7374 - accuracy: 0.6341\n",
      "Epoch 6/150\n",
      "77/77 [==============================] - 0s 6ms/step - loss: 0.6941 - accuracy: 0.6615\n",
      "Epoch 7/150\n",
      "77/77 [==============================] - 0s 6ms/step - loss: 0.6616 - accuracy: 0.6680\n",
      "Epoch 8/150\n",
      "77/77 [==============================] - 0s 6ms/step - loss: 0.6410 - accuracy: 0.6836\n",
      "Epoch 9/150\n",
      "77/77 [==============================] - 0s 6ms/step - loss: 0.6324 - accuracy: 0.6758\n",
      "Epoch 10/150\n",
      "77/77 [==============================] - 0s 6ms/step - loss: 0.6189 - accuracy: 0.6602\n",
      "Epoch 11/150\n",
      "77/77 [==============================] - 0s 6ms/step - loss: 0.6293 - accuracy: 0.6719\n",
      "Epoch 12/150\n",
      "77/77 [==============================] - 0s 6ms/step - loss: 0.6326 - accuracy: 0.6758\n",
      "Epoch 13/150\n",
      "77/77 [==============================] - 1s 7ms/step - loss: 0.6266 - accuracy: 0.6797\n",
      "Epoch 14/150\n",
      "77/77 [==============================] - 0s 6ms/step - loss: 0.6071 - accuracy: 0.6836\n",
      "Epoch 15/150\n",
      "77/77 [==============================] - 0s 6ms/step - loss: 0.6091 - accuracy: 0.6849\n",
      "Epoch 16/150\n",
      "77/77 [==============================] - 0s 6ms/step - loss: 0.6078 - accuracy: 0.6758\n",
      "Epoch 17/150\n",
      "77/77 [==============================] - 0s 6ms/step - loss: 0.6068 - accuracy: 0.6888\n",
      "Epoch 18/150\n",
      "77/77 [==============================] - 0s 6ms/step - loss: 0.6187 - accuracy: 0.6589\n",
      "Epoch 19/150\n",
      "77/77 [==============================] - 0s 6ms/step - loss: 0.6164 - accuracy: 0.6654\n",
      "Epoch 20/150\n",
      "77/77 [==============================] - 0s 6ms/step - loss: 0.6064 - accuracy: 0.6966\n",
      "Epoch 21/150\n",
      "77/77 [==============================] - 0s 6ms/step - loss: 0.6030 - accuracy: 0.6888\n",
      "Epoch 22/150\n",
      "77/77 [==============================] - 0s 6ms/step - loss: 0.5921 - accuracy: 0.7031\n",
      "Epoch 23/150\n",
      "77/77 [==============================] - 1s 7ms/step - loss: 0.5946 - accuracy: 0.6732\n",
      "Epoch 24/150\n",
      "77/77 [==============================] - 1s 7ms/step - loss: 0.5942 - accuracy: 0.6784\n",
      "Epoch 25/150\n",
      "77/77 [==============================] - 1s 7ms/step - loss: 0.5874 - accuracy: 0.6966\n",
      "Epoch 26/150\n",
      "77/77 [==============================] - 0s 6ms/step - loss: 0.5893 - accuracy: 0.6875\n",
      "Epoch 27/150\n",
      "77/77 [==============================] - 0s 6ms/step - loss: 0.5854 - accuracy: 0.6914\n",
      "Epoch 28/150\n",
      "77/77 [==============================] - 1s 7ms/step - loss: 0.5883 - accuracy: 0.7005\n",
      "Epoch 29/150\n",
      "77/77 [==============================] - 1s 7ms/step - loss: 0.6143 - accuracy: 0.6836\n",
      "Epoch 30/150\n",
      "77/77 [==============================] - 0s 6ms/step - loss: 0.5907 - accuracy: 0.6875\n",
      "Epoch 31/150\n",
      "77/77 [==============================] - 0s 6ms/step - loss: 0.5927 - accuracy: 0.6732\n",
      "Epoch 32/150\n",
      "77/77 [==============================] - 0s 6ms/step - loss: 0.5788 - accuracy: 0.7083\n",
      "Epoch 33/150\n",
      "77/77 [==============================] - 0s 6ms/step - loss: 0.5962 - accuracy: 0.6771\n",
      "Epoch 34/150\n",
      "77/77 [==============================] - 0s 6ms/step - loss: 0.5824 - accuracy: 0.6953\n",
      "Epoch 35/150\n",
      "77/77 [==============================] - 0s 6ms/step - loss: 0.5774 - accuracy: 0.7096\n",
      "Epoch 36/150\n",
      "77/77 [==============================] - 1s 7ms/step - loss: 0.5791 - accuracy: 0.6979\n",
      "Epoch 37/150\n",
      "77/77 [==============================] - 1s 8ms/step - loss: 0.5760 - accuracy: 0.7070\n",
      "Epoch 38/150\n",
      "77/77 [==============================] - 1s 7ms/step - loss: 0.5722 - accuracy: 0.7148\n",
      "Epoch 39/150\n",
      "77/77 [==============================] - 0s 6ms/step - loss: 0.5807 - accuracy: 0.6940\n",
      "Epoch 40/150\n",
      "77/77 [==============================] - 0s 6ms/step - loss: 0.5693 - accuracy: 0.7253\n",
      "Epoch 41/150\n",
      "77/77 [==============================] - 0s 6ms/step - loss: 0.5710 - accuracy: 0.7005\n",
      "Epoch 42/150\n",
      "77/77 [==============================] - 0s 6ms/step - loss: 0.5670 - accuracy: 0.7057\n",
      "Epoch 43/150\n",
      "77/77 [==============================] - 0s 6ms/step - loss: 0.5753 - accuracy: 0.6992\n",
      "Epoch 44/150\n",
      "77/77 [==============================] - 1s 8ms/step - loss: 0.5749 - accuracy: 0.7148\n",
      "Epoch 45/150\n",
      "77/77 [==============================] - 0s 6ms/step - loss: 0.5919 - accuracy: 0.6940\n",
      "Epoch 46/150\n",
      "77/77 [==============================] - 0s 6ms/step - loss: 0.5707 - accuracy: 0.6875\n",
      "Epoch 47/150\n",
      "77/77 [==============================] - 0s 6ms/step - loss: 0.5691 - accuracy: 0.7122\n",
      "Epoch 48/150\n",
      "77/77 [==============================] - 0s 6ms/step - loss: 0.5714 - accuracy: 0.7122\n",
      "Epoch 49/150\n",
      "77/77 [==============================] - 0s 6ms/step - loss: 0.5692 - accuracy: 0.7188\n",
      "Epoch 50/150\n",
      "77/77 [==============================] - 0s 6ms/step - loss: 0.5732 - accuracy: 0.7044\n",
      "Epoch 51/150\n",
      "77/77 [==============================] - 0s 6ms/step - loss: 0.5628 - accuracy: 0.7135\n",
      "Epoch 52/150\n",
      "77/77 [==============================] - 0s 6ms/step - loss: 0.5592 - accuracy: 0.7266\n",
      "Epoch 53/150\n",
      "77/77 [==============================] - 0s 6ms/step - loss: 0.5571 - accuracy: 0.7279\n",
      "Epoch 54/150\n",
      "77/77 [==============================] - 0s 6ms/step - loss: 0.5532 - accuracy: 0.7344\n",
      "Epoch 55/150\n",
      "77/77 [==============================] - 1s 7ms/step - loss: 0.5486 - accuracy: 0.7201\n",
      "Epoch 56/150\n",
      "77/77 [==============================] - 0s 6ms/step - loss: 0.5578 - accuracy: 0.7240\n",
      "Epoch 57/150\n",
      "77/77 [==============================] - 0s 6ms/step - loss: 0.5770 - accuracy: 0.6979\n",
      "Epoch 58/150\n",
      "77/77 [==============================] - 0s 6ms/step - loss: 0.5613 - accuracy: 0.7214\n",
      "Epoch 59/150\n",
      "77/77 [==============================] - 0s 6ms/step - loss: 0.5507 - accuracy: 0.7253\n",
      "Epoch 60/150\n",
      "77/77 [==============================] - 0s 6ms/step - loss: 0.5593 - accuracy: 0.7318\n",
      "Epoch 61/150\n",
      "77/77 [==============================] - 0s 6ms/step - loss: 0.5557 - accuracy: 0.7344\n",
      "Epoch 62/150\n",
      "77/77 [==============================] - 0s 6ms/step - loss: 0.5614 - accuracy: 0.7253\n",
      "Epoch 63/150\n",
      "77/77 [==============================] - 0s 6ms/step - loss: 0.5515 - accuracy: 0.7370\n",
      "Epoch 64/150\n",
      "77/77 [==============================] - 0s 6ms/step - loss: 0.5518 - accuracy: 0.7253\n",
      "Epoch 65/150\n",
      "77/77 [==============================] - 0s 6ms/step - loss: 0.5454 - accuracy: 0.7396\n",
      "Epoch 66/150\n",
      "77/77 [==============================] - 0s 6ms/step - loss: 0.5526 - accuracy: 0.7214\n",
      "Epoch 67/150\n",
      "77/77 [==============================] - 0s 6ms/step - loss: 0.5614 - accuracy: 0.7344\n",
      "Epoch 68/150\n",
      "77/77 [==============================] - 0s 6ms/step - loss: 0.5531 - accuracy: 0.7305\n",
      "Epoch 69/150\n",
      "77/77 [==============================] - 0s 6ms/step - loss: 0.5460 - accuracy: 0.7383\n",
      "Epoch 70/150\n",
      "77/77 [==============================] - 0s 6ms/step - loss: 0.5372 - accuracy: 0.7396\n",
      "Epoch 71/150\n",
      "77/77 [==============================] - 0s 6ms/step - loss: 0.5416 - accuracy: 0.7435\n",
      "Epoch 72/150\n",
      "77/77 [==============================] - 0s 6ms/step - loss: 0.5359 - accuracy: 0.7513\n",
      "Epoch 73/150\n",
      "77/77 [==============================] - 0s 6ms/step - loss: 0.5446 - accuracy: 0.7201\n",
      "Epoch 74/150\n",
      "77/77 [==============================] - 0s 6ms/step - loss: 0.5467 - accuracy: 0.7188\n",
      "Epoch 75/150\n",
      "77/77 [==============================] - 0s 6ms/step - loss: 0.5402 - accuracy: 0.7474\n",
      "Epoch 76/150\n",
      "77/77 [==============================] - 0s 6ms/step - loss: 0.5416 - accuracy: 0.7448\n",
      "Epoch 77/150\n",
      "77/77 [==============================] - 0s 6ms/step - loss: 0.5448 - accuracy: 0.7357\n",
      "Epoch 78/150\n",
      "77/77 [==============================] - 0s 6ms/step - loss: 0.5437 - accuracy: 0.7344\n",
      "Epoch 79/150\n",
      "77/77 [==============================] - 0s 6ms/step - loss: 0.5519 - accuracy: 0.7240\n",
      "Epoch 80/150\n",
      "77/77 [==============================] - 0s 6ms/step - loss: 0.5433 - accuracy: 0.7396\n",
      "Epoch 81/150\n",
      "77/77 [==============================] - 0s 6ms/step - loss: 0.5365 - accuracy: 0.7500\n",
      "Epoch 82/150\n",
      "77/77 [==============================] - 0s 6ms/step - loss: 0.5480 - accuracy: 0.7292\n",
      "Epoch 83/150\n",
      "77/77 [==============================] - 0s 6ms/step - loss: 0.5475 - accuracy: 0.7279\n",
      "Epoch 84/150\n",
      "77/77 [==============================] - 0s 6ms/step - loss: 0.5423 - accuracy: 0.7305\n",
      "Epoch 85/150\n",
      "77/77 [==============================] - 0s 6ms/step - loss: 0.5540 - accuracy: 0.7409\n",
      "Epoch 86/150\n",
      "77/77 [==============================] - 0s 6ms/step - loss: 0.5335 - accuracy: 0.7552\n",
      "Epoch 87/150\n",
      "77/77 [==============================] - 0s 6ms/step - loss: 0.5314 - accuracy: 0.7461\n",
      "Epoch 88/150\n",
      "77/77 [==============================] - 0s 6ms/step - loss: 0.5446 - accuracy: 0.7357\n",
      "Epoch 89/150\n",
      "77/77 [==============================] - 0s 6ms/step - loss: 0.5326 - accuracy: 0.7383\n",
      "Epoch 90/150\n",
      "77/77 [==============================] - 0s 6ms/step - loss: 0.5359 - accuracy: 0.7305\n",
      "Epoch 91/150\n",
      "77/77 [==============================] - 0s 6ms/step - loss: 0.5300 - accuracy: 0.7513\n",
      "Epoch 92/150\n",
      "77/77 [==============================] - 0s 6ms/step - loss: 0.5507 - accuracy: 0.7331\n",
      "Epoch 93/150\n",
      "77/77 [==============================] - 0s 6ms/step - loss: 0.5432 - accuracy: 0.7409\n",
      "Epoch 94/150\n",
      "77/77 [==============================] - 0s 6ms/step - loss: 0.5368 - accuracy: 0.7344\n",
      "Epoch 95/150\n",
      "77/77 [==============================] - 1s 7ms/step - loss: 0.5318 - accuracy: 0.7409\n",
      "Epoch 96/150\n",
      "77/77 [==============================] - 0s 6ms/step - loss: 0.5341 - accuracy: 0.7409\n",
      "Epoch 97/150\n",
      "77/77 [==============================] - 0s 6ms/step - loss: 0.5264 - accuracy: 0.7461\n",
      "Epoch 98/150\n",
      "77/77 [==============================] - 0s 6ms/step - loss: 0.5353 - accuracy: 0.7357\n",
      "Epoch 99/150\n",
      "77/77 [==============================] - 0s 6ms/step - loss: 0.5296 - accuracy: 0.7409\n",
      "Epoch 100/150\n",
      "77/77 [==============================] - 1s 6ms/step - loss: 0.5314 - accuracy: 0.7357\n",
      "Epoch 101/150\n",
      "77/77 [==============================] - 0s 6ms/step - loss: 0.5279 - accuracy: 0.7422\n",
      "Epoch 102/150\n",
      "77/77 [==============================] - 0s 6ms/step - loss: 0.5300 - accuracy: 0.7461\n",
      "Epoch 103/150\n",
      "77/77 [==============================] - 0s 6ms/step - loss: 0.5271 - accuracy: 0.7422\n",
      "Epoch 104/150\n",
      "77/77 [==============================] - 0s 6ms/step - loss: 0.5327 - accuracy: 0.7344\n",
      "Epoch 105/150\n",
      "77/77 [==============================] - 0s 6ms/step - loss: 0.5279 - accuracy: 0.7266\n",
      "Epoch 106/150\n",
      "77/77 [==============================] - 0s 6ms/step - loss: 0.5271 - accuracy: 0.7448\n",
      "Epoch 107/150\n",
      "77/77 [==============================] - 0s 6ms/step - loss: 0.5223 - accuracy: 0.7448\n",
      "Epoch 108/150\n",
      "77/77 [==============================] - 0s 6ms/step - loss: 0.5252 - accuracy: 0.7552\n",
      "Epoch 109/150\n",
      "77/77 [==============================] - 0s 6ms/step - loss: 0.5296 - accuracy: 0.7526\n",
      "Epoch 110/150\n",
      "77/77 [==============================] - 0s 6ms/step - loss: 0.5223 - accuracy: 0.7513\n",
      "Epoch 111/150\n",
      "77/77 [==============================] - 0s 6ms/step - loss: 0.5155 - accuracy: 0.7422\n",
      "Epoch 112/150\n",
      "77/77 [==============================] - 1s 6ms/step - loss: 0.5198 - accuracy: 0.7526\n",
      "Epoch 113/150\n",
      "77/77 [==============================] - 0s 6ms/step - loss: 0.5302 - accuracy: 0.7396\n",
      "Epoch 114/150\n",
      "77/77 [==============================] - 0s 6ms/step - loss: 0.5129 - accuracy: 0.7591\n",
      "Epoch 115/150\n",
      "77/77 [==============================] - 0s 6ms/step - loss: 0.5166 - accuracy: 0.7422\n",
      "Epoch 116/150\n",
      "77/77 [==============================] - 0s 6ms/step - loss: 0.5137 - accuracy: 0.7578\n",
      "Epoch 117/150\n",
      "77/77 [==============================] - 0s 6ms/step - loss: 0.5147 - accuracy: 0.7591\n",
      "Epoch 118/150\n",
      "77/77 [==============================] - 0s 6ms/step - loss: 0.5092 - accuracy: 0.7591\n",
      "Epoch 119/150\n",
      "77/77 [==============================] - 0s 6ms/step - loss: 0.5244 - accuracy: 0.7552\n",
      "Epoch 120/150\n",
      "77/77 [==============================] - 0s 6ms/step - loss: 0.5084 - accuracy: 0.7591\n",
      "Epoch 121/150\n",
      "77/77 [==============================] - 0s 6ms/step - loss: 0.5292 - accuracy: 0.7331\n",
      "Epoch 122/150\n",
      "77/77 [==============================] - 0s 6ms/step - loss: 0.5129 - accuracy: 0.7474\n",
      "Epoch 123/150\n",
      "77/77 [==============================] - 0s 6ms/step - loss: 0.5079 - accuracy: 0.7617\n",
      "Epoch 124/150\n",
      "77/77 [==============================] - 0s 6ms/step - loss: 0.5262 - accuracy: 0.7422\n",
      "Epoch 125/150\n",
      "77/77 [==============================] - 0s 6ms/step - loss: 0.5157 - accuracy: 0.7435\n",
      "Epoch 126/150\n",
      "77/77 [==============================] - 0s 6ms/step - loss: 0.5148 - accuracy: 0.7487\n",
      "Epoch 127/150\n",
      "77/77 [==============================] - 0s 6ms/step - loss: 0.5079 - accuracy: 0.7591\n",
      "Epoch 128/150\n",
      "77/77 [==============================] - 0s 6ms/step - loss: 0.5149 - accuracy: 0.7474\n",
      "Epoch 129/150\n",
      "77/77 [==============================] - 0s 6ms/step - loss: 0.5026 - accuracy: 0.7500\n",
      "Epoch 130/150\n",
      "77/77 [==============================] - 0s 6ms/step - loss: 0.5175 - accuracy: 0.7383\n",
      "Epoch 131/150\n",
      "77/77 [==============================] - 0s 6ms/step - loss: 0.5051 - accuracy: 0.7513\n",
      "Epoch 132/150\n",
      "77/77 [==============================] - 0s 6ms/step - loss: 0.5079 - accuracy: 0.7604\n",
      "Epoch 133/150\n",
      "77/77 [==============================] - 0s 6ms/step - loss: 0.5073 - accuracy: 0.7565\n",
      "Epoch 134/150\n",
      "77/77 [==============================] - 0s 6ms/step - loss: 0.4989 - accuracy: 0.7604\n",
      "Epoch 135/150\n",
      "77/77 [==============================] - 0s 6ms/step - loss: 0.5108 - accuracy: 0.7500\n",
      "Epoch 136/150\n",
      "77/77 [==============================] - 0s 6ms/step - loss: 0.5252 - accuracy: 0.7305\n",
      "Epoch 137/150\n",
      "77/77 [==============================] - 0s 6ms/step - loss: 0.5071 - accuracy: 0.7669\n",
      "Epoch 138/150\n",
      "77/77 [==============================] - 0s 6ms/step - loss: 0.5100 - accuracy: 0.7448\n",
      "Epoch 139/150\n",
      "77/77 [==============================] - 0s 6ms/step - loss: 0.5048 - accuracy: 0.7578\n",
      "Epoch 140/150\n",
      "77/77 [==============================] - 0s 6ms/step - loss: 0.5143 - accuracy: 0.7591\n",
      "Epoch 141/150\n",
      "77/77 [==============================] - 0s 6ms/step - loss: 0.5019 - accuracy: 0.7578\n",
      "Epoch 142/150\n",
      "77/77 [==============================] - 0s 6ms/step - loss: 0.4998 - accuracy: 0.7643\n",
      "Epoch 143/150\n",
      "77/77 [==============================] - 1s 7ms/step - loss: 0.4943 - accuracy: 0.7578\n",
      "Epoch 144/150\n",
      "77/77 [==============================] - 0s 6ms/step - loss: 0.5193 - accuracy: 0.7422\n",
      "Epoch 145/150\n",
      "77/77 [==============================] - 0s 6ms/step - loss: 0.5045 - accuracy: 0.7461\n",
      "Epoch 146/150\n",
      "77/77 [==============================] - 1s 7ms/step - loss: 0.5029 - accuracy: 0.7708\n",
      "Epoch 147/150\n",
      "77/77 [==============================] - 0s 6ms/step - loss: 0.4981 - accuracy: 0.7747\n",
      "Epoch 148/150\n",
      "77/77 [==============================] - 1s 7ms/step - loss: 0.5003 - accuracy: 0.7578\n",
      "Epoch 149/150\n",
      "77/77 [==============================] - 0s 6ms/step - loss: 0.4978 - accuracy: 0.7617\n",
      "Epoch 150/150\n",
      "77/77 [==============================] - 0s 6ms/step - loss: 0.5013 - accuracy: 0.7643\n"
     ]
    },
    {
     "data": {
      "text/plain": [
       "<keras.callbacks.History at 0x2908c3af0>"
      ]
     },
     "execution_count": 51,
     "metadata": {},
     "output_type": "execute_result"
    }
   ],
   "source": [
    "# fit the keras model on the dataset\n",
    "model.fit(X, y, epochs=150, batch_size=10)"
   ]
  },
  {
   "cell_type": "code",
   "execution_count": 53,
   "id": "09703a1a",
   "metadata": {},
   "outputs": [
    {
     "name": "stdout",
     "output_type": "stream",
     "text": [
      "24/24 [==============================] - 0s 5ms/step - loss: 0.4884 - accuracy: 0.7656\n",
      "Accuracy: 76.56\n"
     ]
    }
   ],
   "source": [
    "# evaluate the keras model\n",
    "_, accuracy = model.evaluate(X, y)\n",
    "print('Accuracy: %.2f' % (accuracy*100))"
   ]
  },
  {
   "cell_type": "code",
   "execution_count": null,
   "id": "29b43e1b",
   "metadata": {},
   "outputs": [],
   "source": []
  },
  {
   "cell_type": "code",
   "execution_count": null,
   "id": "5a328e42",
   "metadata": {},
   "outputs": [],
   "source": []
  },
  {
   "cell_type": "code",
   "execution_count": null,
   "id": "287a6059",
   "metadata": {},
   "outputs": [],
   "source": []
  },
  {
   "cell_type": "code",
   "execution_count": null,
   "id": "a1581207",
   "metadata": {},
   "outputs": [],
   "source": []
  }
 ],
 "metadata": {
  "kernelspec": {
   "display_name": "Python 3 (ipykernel)",
   "language": "python",
   "name": "python3"
  },
  "language_info": {
   "codemirror_mode": {
    "name": "ipython",
    "version": 3
   },
   "file_extension": ".py",
   "mimetype": "text/x-python",
   "name": "python",
   "nbconvert_exporter": "python",
   "pygments_lexer": "ipython3",
   "version": "3.9.16"
  }
 },
 "nbformat": 4,
 "nbformat_minor": 5
}
